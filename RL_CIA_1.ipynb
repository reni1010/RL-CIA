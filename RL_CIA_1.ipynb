{
  "nbformat": 4,
  "nbformat_minor": 0,
  "metadata": {
    "colab": {
      "provenance": []
    },
    "kernelspec": {
      "name": "python3",
      "display_name": "Python 3"
    },
    "language_info": {
      "name": "python"
    }
  },
  "cells": [
    {
      "cell_type": "code",
      "execution_count": 1,
      "metadata": {
        "id": "hnRcoDVaIABT"
      },
      "outputs": [],
      "source": [
        "import numpy as np\n",
        "import random\n"
      ]
    },
    {
      "cell_type": "code",
      "source": [
        "\n",
        "class KArmedBandit:\n",
        "    def __init__(self, k_arms, epsilon=0.1):\n",
        "\n",
        "        self.k_arms = k_arms    #k_arms: Number of arms (recommendation options).\n",
        "        self.epsilon = epsilon  #epsilon: Exploration rate (probability of exploring a new arm).\n",
        "\n",
        "        self.counts = np.zeros(k_arms)  # Count of how many times each arm was selected\n",
        "        self.values = np.zeros(k_arms)  # Estimated value (reward) of each arm\n",
        "\n",
        "\n",
        "    #Select an action (arm) using epsilon-greedy strategy.\n",
        "\n",
        "    def select_action(self):\n",
        "\n",
        "        if random.random() < self.epsilon:     # Exploration-Randomly select an arm\n",
        "            return random.randint(0, self.k_arms - 1)\n",
        "\n",
        "\n",
        "        else:     # Exploitation: Select the arm with the highest estimated reward\n",
        "            return np.argmax(self.values)\n",
        "\n",
        "\n",
        "\n",
        "    def update_estimates(self, arm, reward):    # Update the estimated reward for the selected arm.\n",
        "    #(arm-The arm that was selected. reward-The reward received after selecting the arm.)\n",
        "\n",
        "        self.counts[arm] += 1\n",
        "        self.values[arm] += (reward - self.values[arm]) / self.counts[arm]\n",
        "\n",
        "\n",
        "\n",
        "    def simulate(self, true_rewards, num_steps):\n",
        "\n",
        "        rewards = []\n",
        "        for _ in range(num_steps):\n",
        "            #Select an action (explore or exploit)\n",
        "            arm = self.select_action()\n",
        "\n",
        "\n",
        "            reward = np.random.normal(true_rewards[arm])\n",
        "\n",
        "            #Update reward estimates\n",
        "            self.update_estimates(arm, reward)\n",
        "\n",
        "\n",
        "            rewards.append(reward)\n",
        "\n",
        "        return rewards"
      ],
      "metadata": {
        "id": "uMKkQQ6c2ACv"
      },
      "execution_count": 2,
      "outputs": []
    },
    {
      "cell_type": "code",
      "source": [
        "# Initialize bandit with k arms and an exploration rate (epsilon)\n",
        "k = 5\n",
        "epsilon = 0.1  # Exploration rate (10% of the time we explore new recommendations)\n",
        "bandit = KArmedBandit(k_arms=k, epsilon=epsilon)"
      ],
      "metadata": {
        "id": "3BtEqS6R2MlZ"
      },
      "execution_count": 3,
      "outputs": []
    },
    {
      "cell_type": "code",
      "source": [
        "\n",
        "true_rewards = [0.1, 0.5, 0.7, 0.3, 0.9]  #true rewards for 5 recommendations\n",
        "\n"
      ],
      "metadata": {
        "id": "C6KrmDXS2Pz8"
      },
      "execution_count": 4,
      "outputs": []
    },
    {
      "cell_type": "code",
      "source": [
        "s\n",
        "num_steps = 1000"
      ],
      "metadata": {
        "id": "y98IWyRN2S9l"
      },
      "execution_count": 5,
      "outputs": []
    },
    {
      "cell_type": "code",
      "source": [
        "\n",
        "rewards = bandit.simulate(true_rewards, num_steps)"
      ],
      "metadata": {
        "id": "eGUQ2VzC2VmI"
      },
      "execution_count": 6,
      "outputs": []
    },
    {
      "cell_type": "code",
      "source": [
        "\n",
        "print(f\"Estimated values of each arm: {bandit.values}\")\n",
        "print(f\"True rewards: {true_rewards}\")\n"
      ],
      "metadata": {
        "colab": {
          "base_uri": "https://localhost:8080/"
        },
        "id": "LjcUaJtQ2X12",
        "outputId": "640a5b01-51ed-4a49-9350-d0a80af66f46"
      },
      "execution_count": 7,
      "outputs": [
        {
          "output_type": "stream",
          "name": "stdout",
          "text": [
            "Estimated values of each arm: [0.40734469 0.54529859 0.61524108 0.13973754 0.89970458]\n",
            "True rewards: [0.1, 0.5, 0.7, 0.3, 0.9]\n"
          ]
        }
      ]
    },
    {
      "cell_type": "code",
      "source": [],
      "metadata": {
        "id": "bRuMR5e22aDa"
      },
      "execution_count": null,
      "outputs": []
    }
  ]
}